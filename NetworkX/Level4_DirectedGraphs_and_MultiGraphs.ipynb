{
 "cells": [
  {
   "cell_type": "code",
   "execution_count": 1,
   "metadata": {
    "collapsed": true
   },
   "outputs": [],
   "source": [
    "\"\"\"\n",
    "参考リスト\n",
    "https://networkx.github.io/documentation/stable/tutorial.html\n",
    "-> NetworkXの公式チュートリアル、諸々の使い方が載っている。\n",
    "\"\"\"\n",
    "import networkx as nx"
   ]
  },
  {
   "cell_type": "code",
   "execution_count": 2,
   "metadata": {
    "collapsed": false
   },
   "outputs": [
    {
     "name": "stdout",
     "output_type": "stream",
     "text": [
      "0.5\n",
      "1.25\n",
      "[2]\n",
      "[2]\n"
     ]
    }
   ],
   "source": [
    "# Directed graphs\n",
    "DG = nx.DiGraph()\n",
    "DG.add_weighted_edges_from([(1, 2, 0.5), (3, 1, 0.75)])\n",
    "print(DG.out_degree(1, weight='weight'))\n",
    "#>>> 0.5\n",
    "print(DG.degree(1, weight='weight'))\n",
    "#>>> 1.25\n",
    "print(list(DG.successors(1)))\n",
    "#>>> [2]\n",
    "print(list(DG.neighbors(1)))\n",
    "#>>> [2]"
   ]
  },
  {
   "cell_type": "code",
   "execution_count": 3,
   "metadata": {
    "collapsed": false
   },
   "outputs": [
    {
     "name": "stdout",
     "output_type": "stream",
     "text": [
      "{1: 1.25, 2: 1.75, 3: 0.5}\n",
      "[1, 2, 3]\n"
     ]
    }
   ],
   "source": [
    "# Multigraphs\n",
    "MG = nx.MultiGraph()\n",
    "MG.add_weighted_edges_from([(1, 2, 0.5), (1, 2, 0.75), (2, 3, 0.5)])\n",
    "print(dict(MG.degree(weight='weight')))\n",
    "#>>> {1: 1.25, 2: 1.75, 3: 0.5}\n",
    "GG = nx.Graph()\n",
    "for n, nbrs in MG.adjacency():\n",
    "    for nbr, edict in nbrs.items():\n",
    "        minvalue = min([d['weight'] for d in edict.values()])\n",
    "        GG.add_edge(n, nbr, weight = minvalue)\n",
    "print(nx.shortest_path(GG, 1, 3))\n",
    "#>>> [1, 2, 3]"
   ]
  },
  {
   "cell_type": "code",
   "execution_count": null,
   "metadata": {
    "collapsed": true
   },
   "outputs": [],
   "source": []
  }
 ],
 "metadata": {
  "kernelspec": {
   "display_name": "Python 3",
   "language": "python",
   "name": "python3"
  },
  "language_info": {
   "codemirror_mode": {
    "name": "ipython",
    "version": 3
   },
   "file_extension": ".py",
   "mimetype": "text/x-python",
   "name": "python",
   "nbconvert_exporter": "python",
   "pygments_lexer": "ipython3",
   "version": "3.5.2"
  }
 },
 "nbformat": 4,
 "nbformat_minor": 2
}
