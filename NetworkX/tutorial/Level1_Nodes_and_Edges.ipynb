{
 "cells": [
  {
   "cell_type": "code",
   "execution_count": 2,
   "metadata": {
    "collapsed": false,
    "deletable": true,
    "editable": true
   },
   "outputs": [],
   "source": [
    "\"\"\"\n",
    "参考リスト\n",
    "https://networkx.github.io/documentation/stable/tutorial.html\n",
    "-> NetworkXの公式チュートリアル、諸々の使い方が載っている。\n",
    "\"\"\"\n",
    "import networkx as nx\n",
    "import matplotlib.pyplot as plt"
   ]
  },
  {
   "cell_type": "code",
   "execution_count": 3,
   "metadata": {
    "collapsed": false,
    "deletable": true,
    "editable": true
   },
   "outputs": [],
   "source": [
    "# Creating a Graph\n",
    "G=nx.Graph()  #Create an empty graph with no nodes and no edges."
   ]
  },
  {
   "cell_type": "code",
   "execution_count": 4,
   "metadata": {
    "collapsed": false,
    "deletable": true,
    "editable": true
   },
   "outputs": [
    {
     "name": "stdout",
     "output_type": "stream",
     "text": [
      "[1, 2, 3]\n",
      "[0, 1, 2, 3, 4, 5, 6, 7, 8, 9]\n"
     ]
    }
   ],
   "source": [
    "# add Nodes========\n",
    "G.add_node(1)\n",
    "G.add_nodes_from([2,3])\n",
    "print(G.nodes())\n",
    "\n",
    "H=nx.path_graph(10)\n",
    "G.add_nodes_from(H)\n",
    "print(G.nodes())"
   ]
  },
  {
   "cell_type": "code",
   "execution_count": 5,
   "metadata": {
    "collapsed": false,
    "deletable": true,
    "editable": true
   },
   "outputs": [
    {
     "name": "stdout",
     "output_type": "stream",
     "text": [
      "[(1, 2), (2, 3)]\n",
      "[(1, 2, {}), (2, 3, {})]\n"
     ]
    }
   ],
   "source": [
    "# edges========\n",
    "G.add_edge(1,2)\n",
    "e=(2,3)\n",
    "G.add_edge(*e) # unpack edge tuple*\n",
    "print(G.edges())\n",
    "print(G.edges(data=True))"
   ]
  },
  {
   "cell_type": "code",
   "execution_count": 6,
   "metadata": {
    "collapsed": false,
    "deletable": true,
    "editable": true
   },
   "outputs": [
    {
     "name": "stdout",
     "output_type": "stream",
     "text": [
      "[(1, 2), (1, 3), (2, 3)]\n"
     ]
    }
   ],
   "source": [
    "G.add_edges_from([(1,2),(1,3)])\n",
    "print(G.edges())"
   ]
  },
  {
   "cell_type": "code",
   "execution_count": 7,
   "metadata": {
    "collapsed": false,
    "deletable": true,
    "editable": true
   },
   "outputs": [
    {
     "name": "stdout",
     "output_type": "stream",
     "text": [
      "[(0, 1), (1, 2), (1, 3), (2, 3), (3, 4), (4, 5), (5, 6), (6, 7), (7, 8), (8, 9)]\n"
     ]
    }
   ],
   "source": [
    "G.add_edges_from(H.edges())\n",
    "print(G.edges())"
   ]
  },
  {
   "cell_type": "code",
   "execution_count": 8,
   "metadata": {
    "collapsed": false,
    "deletable": true,
    "editable": true
   },
   "outputs": [
    {
     "name": "stdout",
     "output_type": "stream",
     "text": [
      "\n"
     ]
    }
   ],
   "source": [
    "#G.remove_node(H)\n",
    "G.clear()\n",
    "print(G)"
   ]
  },
  {
   "cell_type": "code",
   "execution_count": 12,
   "metadata": {
    "collapsed": false,
    "deletable": true,
    "editable": true
   },
   "outputs": [
    {
     "name": "stdout",
     "output_type": "stream",
     "text": [
      "[1, 2, 3, 's', 'a', 'spam', 'p', 'm']\n",
      "[(1, 2), (1, 3)]\n",
      "[1, 2, 3, 's', 'a', 'spam', 'p', 'm']\n",
      "[(1, 2), (1, 3), (3, 'm')]\n"
     ]
    }
   ],
   "source": [
    "# we add new nodes/edges and NetworkX quietly ignores any that are already present.\n",
    "G.add_edges_from([(1, 2), (1, 3)])\n",
    "G.add_node(1)\n",
    "G.add_edge(1, 2)\n",
    "print(G.nodes())\n",
    "print(G.edges())\n",
    "\n",
    "G.add_node(\"spam\")        # adds node \"spam\"\n",
    "G.add_nodes_from(\"spam\")  # adds 4 nodes: 's', 'p', 'a', 'm'\n",
    "G.add_edge(3, 'm')\n",
    "print(G.nodes())\n",
    "print(G.edges())"
   ]
  },
  {
   "cell_type": "code",
   "execution_count": 13,
   "metadata": {
    "collapsed": false,
    "deletable": true,
    "editable": true
   },
   "outputs": [
    {
     "name": "stdout",
     "output_type": "stream",
     "text": [
      "8\n",
      "3\n"
     ]
    }
   ],
   "source": [
    "# At this stage the graph G consists of 8 nodes and 2 edges, as can be seen by:\n",
    "print(G.number_of_nodes())\n",
    "print(G.number_of_edges())"
   ]
  },
  {
   "cell_type": "code",
   "execution_count": 14,
   "metadata": {
    "collapsed": false,
    "deletable": true,
    "editable": true
   },
   "outputs": [
    {
     "name": "stdout",
     "output_type": "stream",
     "text": [
      "[1, 2, 3, 's', 'a', 'spam', 'p', 'm']\n",
      "[(1, 2), (1, 3), (3, 'm')]\n",
      "[2, 3]\n",
      "2\n"
     ]
    }
   ],
   "source": [
    "print(list(G.nodes))\n",
    "#>>> ['a', 1, 2, 3, 'spam', 'm', 'p', 's']\n",
    "print(list(G.edges))\n",
    "#>>> [(1, 2), (1, 3), (3, 'm')]\n",
    "print(list(G.adj[1]))  # or list(G.neighbors(1))\n",
    "#>>> [2, 3]\n",
    "print(G.degree[1])  # the number of edges incident to 1\n",
    "# 2"
   ]
  },
  {
   "cell_type": "code",
   "execution_count": 15,
   "metadata": {
    "collapsed": false,
    "deletable": true,
    "editable": true
   },
   "outputs": [
    {
     "name": "stdout",
     "output_type": "stream",
     "text": [
      "[(2, 1), ('m', 3)]\n",
      "[(2, 1), (3, 2)]\n"
     ]
    }
   ],
   "source": [
    "print(G.edges([2, 'm']))\n",
    "#>>> EdgeDataView([(2, 1), ('m', 3)])\n",
    "print(G.degree([2, 3]))\n",
    "#>>> DegreeView({2: 1, 3: 2})"
   ]
  },
  {
   "cell_type": "code",
   "execution_count": 16,
   "metadata": {
    "collapsed": false,
    "deletable": true,
    "editable": true
   },
   "outputs": [
    {
     "name": "stdout",
     "output_type": "stream",
     "text": [
      "[1, 3, 'spam']\n",
      "[]\n"
     ]
    }
   ],
   "source": [
    "G.remove_node(2)\n",
    "G.remove_nodes_from(\"spam\")\n",
    "print(list(G.nodes))\n",
    "#>>> [1, 3, 'spam']\n",
    "G.remove_edge(1, 3)\n",
    "print(list(G.edges))"
   ]
  },
  {
   "cell_type": "code",
   "execution_count": 17,
   "metadata": {
    "collapsed": false,
    "deletable": true,
    "editable": true
   },
   "outputs": [
    {
     "name": "stdout",
     "output_type": "stream",
     "text": [
      "[(1, 2), (2, 1)]\n",
      "[(0, 1), (1, 2), (2, 3)]\n"
     ]
    }
   ],
   "source": [
    "G.add_edge(1, 2)\n",
    "H = nx.DiGraph(G)   # create a DiGraph using the connections from G\n",
    "print(list(H.edges()))\n",
    "#>>> [(1, 2), (2, 1)]\n",
    "edgelist = [(0, 1), (1, 2), (2, 3)]\n",
    "H = nx.Graph(edgelist)\n",
    "print(list(H.edges()))"
   ]
  },
  {
   "cell_type": "code",
   "execution_count": 18,
   "metadata": {
    "collapsed": false
   },
   "outputs": [
    {
     "name": "stdout",
     "output_type": "stream",
     "text": [
      "[1, 2, 3, 'spam']\n",
      "[(1, 2)]\n"
     ]
    }
   ],
   "source": [
    "print(G.nodes)\n",
    "print(G.edges)"
   ]
  },
  {
   "cell_type": "code",
   "execution_count": null,
   "metadata": {
    "collapsed": true
   },
   "outputs": [],
   "source": []
  }
 ],
 "metadata": {
  "kernelspec": {
   "display_name": "Python 3",
   "language": "python",
   "name": "python3"
  },
  "language_info": {
   "codemirror_mode": {
    "name": "ipython",
    "version": 3
   },
   "file_extension": ".py",
   "mimetype": "text/x-python",
   "name": "python",
   "nbconvert_exporter": "python",
   "pygments_lexer": "ipython3",
   "version": "3.5.2"
  }
 },
 "nbformat": 4,
 "nbformat_minor": 2
}
